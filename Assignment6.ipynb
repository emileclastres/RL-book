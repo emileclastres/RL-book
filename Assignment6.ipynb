{
 "cells": [
  {
   "cell_type": "markdown",
   "metadata": {},
   "source": [
    "# Assignment 6 : Utility Theory"
   ]
  },
  {
   "cell_type": "markdown",
   "metadata": {},
   "source": [
    "## 1)\n",
    "\n",
    "Let $U(x) = x - \\frac{\\alpha x}{2}$, with $\\alpha > 0$. We have:\n",
    "\n",
    "\n",
    "* $E(U(x)) = E(x) - \\frac{\\alpha}{2} E(x^2) = \\mu - \\frac{\\alpha}{2}(\\mu^2 + \\sigma^2)$\n",
    "* $ x_{CE} - \\frac{\\alpha}{2}x_{CE}^2 = \\mu - \\frac{\\alpha}{2}(\\mu^2 + \\sigma^2)$\n",
    "\n",
    "-> $x_{CE} = \\frac{1+ \\sqrt{\\alpha^2 (\\mu^2 + \\sigma^2) - 2 \\alpha \\mu + 1}}{\\alpha}$\n",
    "\n",
    "-> $\\pi_A = \\mu - x_{CE} = \\mu - \\frac{1+ \\sqrt{\\alpha^2 (\\mu^2 + \\sigma^2) - 2 \\alpha \\mu + 1}}{\\alpha}$\n",
    "\n",
    "\n",
    "\n",
    "After a year, the expected wealth follows $\\mathcal{N}(~10^6 r + (\\mu - r)z,~ z^2 \\sigma^2~)$ We substitute for these values in the expression of $x_{CE}$ that we need to maximize (too ugly).\n",
    "\n",
    "It is equivalent to maximizing $\\alpha^2 ((10^6 r + (\\mu - r)z)^2 + (z^2 \\sigma^2)^2) - 2 \\alpha  (10^6 r + (\\mu - r))z$ [... makes no sense]\n",
    "\n",
    "\n",
    "Let's simplify the problem by using the approximation $x_{CE} = - \\frac{1}{2}A(E(x))\\sigma_x^2$:\n",
    "\n",
    "$A(y) = - \\frac{\\alpha}{1 - \\alpha y}$, therefore $x_{CE} = \\frac{1}{2}\\frac{\\alpha}{1 - \\alpha(10^6 r + (\\mu - r)z)} z^2 \\sigma ^2$ ... [thats disgusting ... ]"
   ]
  },
  {
   "cell_type": "markdown",
   "metadata": {},
   "source": [
    "## 2) CRRA , $\\gamma = 1$\n",
    "\n",
    "Let's first derive the expression for $x_{CE}$ when $\\gamma = 1$ and $y := log(x) \\sim \\mathcal{N}(\\mu, \\sigma^2)$:\n",
    "\n",
    "$$E[U(x)] = E[U(e^y)] = E[y] = \\mu$$\n",
    "\n",
    "Then, $$x_{CE} = e^\\mu$$\n",
    "\n",
    "Now let's consider the wealth process $W_t$ of our continuously rebalanced portfolio with risky asset allocation $\\pi$:\n",
    "\n",
    "$$dW_t = (r + \\pi (\\mu -r))\\cdot W_t d_t + \\pi \\sigma W_t d z_t$$ \n",
    "Applying Ito's Lemma on log(Wt) gives $\\log(W_t) \\sim \\mathcal{N}(r + \\pi (\\mu - r) - \\frac{\\pi^2 \\sigma^2}{2}, \\pi^2 \\sigma ^2)$\n",
    "\n",
    "Therefore, we need to maximize $x_{CE} = e^{r + \\pi (\\mu - r) - \\frac{\\pi^2 \\sigma^2}{2}}$ which is equivalent to maximizing $r + \\pi (\\mu - r) - \\frac{\\pi^2 \\sigma^2}{2}$ which is a concave polynomial of order 2 whose global minimum is at $$\\pi^* = \\frac{\\mu - r}{\\sigma}$$. \n",
    "\n",
    "Without any surprise, this is equal to the general CRRA formula with $\\gamma = 1$. It corresponds to the units of excess returns per units of risk. The more excess-value-per-risk, the more we will put on the risky asset.\n"
   ]
  },
  {
   "cell_type": "markdown",
   "metadata": {},
   "source": [
    "## 3) Kelly's criterion"
   ]
  },
  {
   "cell_type": "markdown",
   "metadata": {},
   "source": [
    "From $W_0$, after a bet of $f W_0$, we have a probability p of attaining wealth $W = (W_0 - W_0 f) + W_0 f (1+ \\alpha) = W_0(1 + f \\alpha)$. Likewise we get to $W = W_0 (1 - f \\beta ) $ with probability $q$."
   ]
  },
  {
   "cell_type": "markdown",
   "metadata": {},
   "source": [
    "These outocmes correspond to:\n",
    "* ( $p$ ) : $ \\log(W_0 (1+ f \\alpha)) = U_0  + \\log(1+ f\\alpha)$\n",
    "* ( $q$ ) : $ \\log(W_0 (1 - f \\beta)) = U_0  + \\log(1 - f\\beta)$\n",
    "\n",
    "Where $U_0 = \\log(W_0)$, the utility before taking the bet.\n",
    "\n",
    "$E[log(W)] = U_0 + p \\log(1+f\\alpha)  + q \\log(1-f\\beta)$\n",
    "\n",
    "$$\\frac{d ~ E[log(W)]}{d f} = p \\frac{\\alpha}{1 + f \\alpha} - q \\frac{\\beta}{1 - f \\beta}$$\n",
    "\n",
    "Setting it to 0 :\n",
    "\n",
    "$$\\frac{p\\alpha}{1 + f \\alpha} - \\frac{q \\beta}{1 - f \\beta} = 0 $$\n",
    "\n",
    "-> $$ f^* = \\frac{\\frac{1}{q \\beta} - \\frac{1}{p \\alpha}}{1/p + 1/q} = \\frac{p \\alpha - q\\beta}{\\alpha \\beta}$$\n",
    "\n",
    "The second derivative is indeed positive and $f^*$ is the global maximum because $x \\mapsto log(a + b x)$ is concave and so $E[log(W)]$ is concave as a sum of concave functions.\n",
    "\n",
    "\n",
    "-> The formula makes sense since when winning is certain ($p = 1$), we bet all our money : $f^* = 1$ (reciprocally, nothing if $p =0$)\n",
    "\n",
    "\n",
    "If $p = q$ and $\\alpha = \\beta$ then the game si symmetrical, unlike our utility, and so there is no point in enduring the risk to play -> $f^* = 0$\n",
    "\n",
    "\n",
    "Moreover, the nominator appears in the expectancy of wealth : \n",
    "\n",
    "$$E[W] = W_0(1+ f(p\\alpha - q\\beta))$$\n",
    "\n",
    "Therefore, an alnalogy can be made that  $$f^*$$ can be seen as the ratio of mean returns over the co - standard deviation of the returns in a two stocks universe."
   ]
  },
  {
   "cell_type": "code",
   "execution_count": null,
   "metadata": {},
   "outputs": [],
   "source": []
  },
  {
   "cell_type": "code",
   "execution_count": null,
   "metadata": {},
   "outputs": [],
   "source": [
    "`"
   ]
  }
 ],
 "metadata": {
  "kernelspec": {
   "display_name": "Python 3",
   "language": "python",
   "name": "python3"
  },
  "language_info": {
   "codemirror_mode": {
    "name": "ipython",
    "version": 3
   },
   "file_extension": ".py",
   "mimetype": "text/x-python",
   "name": "python",
   "nbconvert_exporter": "python",
   "pygments_lexer": "ipython3",
   "version": "3.7.3"
  }
 },
 "nbformat": 4,
 "nbformat_minor": 2
}
