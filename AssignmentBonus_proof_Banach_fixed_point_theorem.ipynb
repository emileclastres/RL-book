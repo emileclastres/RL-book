{
 "cells": [
  {
   "cell_type": "markdown",
   "metadata": {},
   "source": [
    "# Let's prove the Banach fixed-point theorem.\n",
    "\n",
    "\n",
    "Using the same notations as in the book:\n",
    "\n",
    "Let $x_0 \\in \\mathcal{D}$. Define $\\forall n \\geq 1 , ~ x_n  = f(x_{n-1})$\n",
    "\n",
    "We can observe that since $f$ is a contraction, the sequence $y_n := x_{n+1} - x_{n}$ is a Cauchy sequence. Indeed, for all $n$ we have $d(y_{n+1}, y_{n}) \\leq L \\cdot d(y_n, y_{n-1})$ and therefore $lim_n d(y_{n+1}, y_{n}) =  0$ since $0 < L < 1$.\n",
    "\n",
    "$(\\mathcal{D},d)$ is a complete space, therefore every Cauchy sequence in $\\mathcal{D}$ converges. Thus there exists $x \\in \\mathcal{D}$ such that $x_n$ converges to $x$. By definition, this point satisfies $f(x) = x$.\n",
    "\n",
    "Further, this point has to be unique since if there existed a second fixed-point $y$ not equal to $x$, then $ d(x,y) = d(f(x)-f(y)) \\leq L d(x,y) < d(x,y)$ which would be absurd. Therefore $x$ is the unique fixed-point of $f$."
   ]
  },
  {
   "cell_type": "code",
   "execution_count": null,
   "metadata": {},
   "outputs": [],
   "source": []
  }
 ],
 "metadata": {
  "kernelspec": {
   "display_name": "Python 3",
   "language": "python",
   "name": "python3"
  },
  "language_info": {
   "codemirror_mode": {
    "name": "ipython",
    "version": 3
   },
   "file_extension": ".py",
   "mimetype": "text/x-python",
   "name": "python",
   "nbconvert_exporter": "python",
   "pygments_lexer": "ipython3",
   "version": "3.7.3"
  }
 },
 "nbformat": 4,
 "nbformat_minor": 2
}
