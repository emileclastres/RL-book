{
 "metadata": {
  "language_info": {
   "codemirror_mode": {
    "name": "ipython",
    "version": 3
   },
   "file_extension": ".py",
   "mimetype": "text/x-python",
   "name": "python",
   "nbconvert_exporter": "python",
   "pygments_lexer": "ipython3",
   "version": "3.8.5-final"
  },
  "orig_nbformat": 2,
  "kernelspec": {
   "name": "python3",
   "display_name": "Python 3.8.5 64-bit (conda)",
   "metadata": {
    "interpreter": {
     "hash": "38769b1f53c72ff86450cf729f4dd42eb6dc200bf64e42232d27ac83b9528a7d"
    }
   }
  }
 },
 "nbformat": 4,
 "nbformat_minor": 2,
 "cells": [
  {
   "source": [
    "# Assignment 15\n",
    "\n",
    "## 1) Various Prediction methods"
   ],
   "cell_type": "markdown",
   "metadata": {}
  },
  {
   "cell_type": "code",
   "execution_count": 1,
   "metadata": {},
   "outputs": [
    {
     "output_type": "stream",
     "name": "stdout",
     "text": [
      "------------- MONTE CARLO VALUE FUNCTION --------------\n",
      "{'A': 9.571428571428571, 'B': 5.642857142857142}\n",
      "-------------- MRP VALUE FUNCTION ----------\n",
      "{'A': 12.933333333333335, 'B': 9.600000000000001}\n",
      "------------- TD VALUE FUNCTION --------------\n",
      "{'A': 12.91374362709445, 'B': 9.596758843877044}\n",
      "------------- LSTD VALUE FUNCTION --------------\n",
      "{'A': 12.933333333333334, 'B': 9.600000000000001}\n"
     ]
    }
   ],
   "source": [
    "from Assignment15 import *\n",
    "\n",
    "given_data: DataType = [\n",
    "        [('A', 2.), ('A', 6.), ('B', 1.), ('B', 2.)],\n",
    "        [('A', 3.), ('B', 2.), ('A', 4.), ('B', 2.), ('B', 0.)],\n",
    "        [('B', 3.), ('B', 6.), ('A', 1.), ('B', 1.)],\n",
    "        [('A', 0.), ('B', 2.), ('A', 4.), ('B', 4.), ('B', 2.), ('B', 3.)],\n",
    "        [('B', 8.), ('B', 2.)]\n",
    "    ]\n",
    "\n",
    "sr_samps = get_state_return_samples(given_data)\n",
    "\n",
    "print(\"------------- MONTE CARLO VALUE FUNCTION --------------\")\n",
    "print(get_mc_value_function(sr_samps))\n",
    "\n",
    "srs_samps = get_state_reward_next_state_samples(given_data)\n",
    "\n",
    "pfunc, rfunc = get_probability_and_reward_functions(srs_samps)\n",
    "print(\"-------------- MRP VALUE FUNCTION ----------\")\n",
    "print(get_mrp_value_function(pfunc, rfunc))\n",
    "\n",
    "print(\"------------- TD VALUE FUNCTION --------------\")\n",
    "print(get_td_value_function(srs_samps))\n",
    "\n",
    "print(\"------------- LSTD VALUE FUNCTION --------------\")\n",
    "print(get_lstd_value_function(srs_samps))"
   ]
  },
  {
   "source": [
    "It turns out that all methods give approximately the same answer except for Monte Carlo. This comes as no surprise as MC is the only method that isn't attemting to make the Bellman equation verified, and solely attempts to model the expected returns accurately, hence the difference."
   ],
   "cell_type": "markdown",
   "metadata": {}
  },
  {
   "cell_type": "code",
   "execution_count": null,
   "metadata": {},
   "outputs": [],
   "source": []
  }
 ]
}